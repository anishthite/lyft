{
 "cells": [
  {
   "cell_type": "code",
   "execution_count": 1,
   "metadata": {},
   "outputs": [
    {
     "ename": "ModuleNotFoundError",
     "evalue": "No module named 'seaborn'",
     "output_type": "error",
     "traceback": [
      "\u001b[0;31m---------------------------------------------------------------------------\u001b[0m",
      "\u001b[0;31mModuleNotFoundError\u001b[0m                       Traceback (most recent call last)",
      "\u001b[0;32m<ipython-input-1-eaa96734fb1a>\u001b[0m in \u001b[0;36m<module>\u001b[0;34m\u001b[0m\n\u001b[1;32m      5\u001b[0m \u001b[0;32mfrom\u001b[0m \u001b[0msklearn\u001b[0m\u001b[0;34m.\u001b[0m\u001b[0mcluster\u001b[0m \u001b[0;32mimport\u001b[0m \u001b[0mKMeans\u001b[0m\u001b[0;34m\u001b[0m\u001b[0;34m\u001b[0m\u001b[0m\n\u001b[1;32m      6\u001b[0m \u001b[0;32mfrom\u001b[0m \u001b[0mmpl_toolkits\u001b[0m \u001b[0;32mimport\u001b[0m \u001b[0mmplot3d\u001b[0m\u001b[0;34m\u001b[0m\u001b[0;34m\u001b[0m\u001b[0m\n\u001b[0;32m----> 7\u001b[0;31m \u001b[0;32mimport\u001b[0m \u001b[0mseaborn\u001b[0m \u001b[0;32mas\u001b[0m \u001b[0msns\u001b[0m\u001b[0;34m\u001b[0m\u001b[0;34m\u001b[0m\u001b[0m\n\u001b[0m\u001b[1;32m      8\u001b[0m \u001b[0;32mfrom\u001b[0m \u001b[0msklearn\u001b[0m\u001b[0;34m.\u001b[0m\u001b[0mdecomposition\u001b[0m \u001b[0;32mimport\u001b[0m \u001b[0mPCA\u001b[0m\u001b[0;34m\u001b[0m\u001b[0;34m\u001b[0m\u001b[0m\n",
      "\u001b[0;31mModuleNotFoundError\u001b[0m: No module named 'seaborn'"
     ]
    }
   ],
   "source": [
    "import numpy as np\n",
    "from datetime import datetime\n",
    "import pandas as pd\n",
    "import matplotlib.pyplot as plt\n",
    "from sklearn.cluster import KMeans\n",
    "from mpl_toolkits import mplot3d\n",
    "import seaborn as sns\n",
    "from sklearn.decomposition import PCA"
   ]
  },
  {
   "cell_type": "markdown",
   "metadata": {},
   "source": [
    "Going to start looking at ride_id to see correlations between ride distance and duration and prime time"
   ]
  },
  {
   "cell_type": "code",
   "execution_count": null,
   "metadata": {},
   "outputs": [],
   "source": [
    "ride_id = pd.read_csv(\"ride_ids.csv\")"
   ]
  },
  {
   "cell_type": "code",
   "execution_count": null,
   "metadata": {
    "scrolled": true
   },
   "outputs": [],
   "source": [
    "ride_id"
   ]
  },
  {
   "cell_type": "code",
   "execution_count": null,
   "metadata": {},
   "outputs": [],
   "source": []
  },
  {
   "cell_type": "markdown",
   "metadata": {},
   "source": [
    "driver id, ride id, ride_distance, ride_duration, ride_prime_time, total money, response time \n",
    "\n",
    "Base Fare\n",
    "Cost per Mile Cost per Minute Service Fee Minimum Fare Maximum Fare\n",
    "Submission instructions:\n",
    "$2.00 $1.15 $0.22 $1.75"
   ]
  },
  {
   "cell_type": "code",
   "execution_count": null,
   "metadata": {},
   "outputs": [],
   "source": [
    "ride_id[\"ride_cost\"] = ride_id['ride_distance'] * 1.15 * 0.000621371 + ride_id[\"ride_duration\"] * 0.22 / 60 + 3.75\n",
    "ride_id[ride_id[\"ride_cost\"] < 5] = 5\n",
    "ride_id"
   ]
  },
  {
   "cell_type": "code",
   "execution_count": null,
   "metadata": {},
   "outputs": [],
   "source": [
    "driver_id = pd.read_csv(\"driver_ids.csv\")"
   ]
  },
  {
   "cell_type": "code",
   "execution_count": null,
   "metadata": {},
   "outputs": [],
   "source": [
    "driver_id"
   ]
  },
  {
   "cell_type": "markdown",
   "metadata": {},
   "source": [
    "Make new database of driver along with the ride_ids as"
   ]
  },
  {
   "cell_type": "code",
   "execution_count": null,
   "metadata": {},
   "outputs": [],
   "source": []
  },
  {
   "cell_type": "markdown",
   "metadata": {},
   "source": [
    "Distance x Duration"
   ]
  },
  {
   "cell_type": "code",
   "execution_count": null,
   "metadata": {},
   "outputs": [],
   "source": [
    "plt.scatter(ride_id[\"ride_distance\"], ride_id[\"ride_duration\"], alpha=0.5)"
   ]
  },
  {
   "cell_type": "code",
   "execution_count": null,
   "metadata": {},
   "outputs": [],
   "source": [
    "ride_id[\"ride_prime_time\"]"
   ]
  },
  {
   "cell_type": "markdown",
   "metadata": {},
   "source": [
    "Duration x Prime Time "
   ]
  },
  {
   "cell_type": "code",
   "execution_count": null,
   "metadata": {},
   "outputs": [],
   "source": [
    "plt.scatter(ride_id.iloc[:,3], ride_id.iloc[:,4], alpha=0.5)"
   ]
  },
  {
   "cell_type": "markdown",
   "metadata": {},
   "source": [
    "Migh tmake a driver/ride histogram to see the avg number of rides a driver does, should be normally distributed"
   ]
  },
  {
   "cell_type": "code",
   "execution_count": null,
   "metadata": {},
   "outputs": [],
   "source": [
    "ride_timestamps= pd.read_csv(\"ride_timestamps.csv\")"
   ]
  },
  {
   "cell_type": "code",
   "execution_count": null,
   "metadata": {},
   "outputs": [],
   "source": [
    "ride_timestamps2 = ride_timestamps\n",
    "a = ride_timestamps2[ride_timestamps2.index % 5== 0].reset_index()\n",
    "b = ride_timestamps2[ride_timestamps2.index % 5 == 1].reset_index()\n",
    "c = ride_timestamps2[ride_timestamps2.index % 5== 2].reset_index()\n",
    "d = ride_timestamps2[ride_timestamps2.index % 5 == 3].reset_index()\n",
    "e = ride_timestamps2[ride_timestamps2.index % 5== 4].reset_index()\n",
    "ride_timestamps2 = ride_timestamps2[ride_timestamps2.index % 5 == 0]\n",
    "s = pd.DataFrame(ride_timestamps2[\"ride_id\"]).reset_index()\n",
    "s[\"requested_at\"] = a[\"timestamp\"]\n",
    "s[\"accepted_at\"] = b[\"timestamp\"]\n",
    "s[\"arrived_at\"] = c[\"timestamp\"]\n",
    "s[\"picked_up_at\"] = d[\"timestamp\"]\n",
    "s[\"dropped_off_at\"] = e[\"timestamp\"]\n",
    "\n"
   ]
  },
  {
   "cell_type": "code",
   "execution_count": null,
   "metadata": {},
   "outputs": [],
   "source": [
    "s[\"time_waited\"] = s[\"picked_up_at\"].map(lambda a : datetime.strptime(a, \"%Y-%m-%d %H:%M:%S\")) - s[\"requested_at\"].map(lambda a : datetime.strptime(a, \"%Y-%m-%d %H:%M:%S\"))\n",
    "s[\"response_time\"] =  s[\"accepted_at\"].map(lambda a : datetime.strptime(a, \"%Y-%m-%d %H:%M:%S\")) - s[\"requested_at\"].map(lambda a : datetime.strptime(a, \"%Y-%m-%d %H:%M:%S\"))"
   ]
  },
  {
   "cell_type": "code",
   "execution_count": null,
   "metadata": {},
   "outputs": [],
   "source": [
    "s[\"time_waited\"] = s[\"time_waited\"].apply(lambda a : a.seconds)\n",
    "s[\"response_time\"] = s[\"response_time\"].apply(lambda a : a.seconds)"
   ]
  },
  {
   "cell_type": "code",
   "execution_count": null,
   "metadata": {},
   "outputs": [],
   "source": [
    "#df_merge_col = pd.merge(df_row, df3, on='id')\n",
    "merge = pd.merge(ride_id, s[[\"ride_id\", \"time_waited\", \"response_time\"]], on =\"ride_id\")"
   ]
  },
  {
   "cell_type": "code",
   "execution_count": null,
   "metadata": {},
   "outputs": [],
   "source": [
    "merge"
   ]
  },
  {
   "cell_type": "code",
   "execution_count": null,
   "metadata": {},
   "outputs": [],
   "source": [
    "kmeans_data = merge[[\"ride_distance\", \"ride_duration\", \"ride_prime_time\", \"ride_cost\", \"time_waited\", \"response_time\"]]"
   ]
  },
  {
   "cell_type": "markdown",
   "metadata": {},
   "source": [
    "kmeans_data_no_out = kmeans_data[kmeans_data.ride_cost < 600]"
   ]
  },
  {
   "cell_type": "code",
   "execution_count": null,
   "metadata": {},
   "outputs": [],
   "source": [
    "kmeans_data_no_out = kmeans_data[kmeans_data.ride_cost < 600]"
   ]
  },
  {
   "cell_type": "code",
   "execution_count": null,
   "metadata": {},
   "outputs": [],
   "source": [
    "km = KMeans(\n",
    "    n_clusters=3, init='random',\n",
    "    n_init=10, max_iter=300, \n",
    "    tol=1e-04, random_state=0\n",
    ")\n",
    "y_km = km.fit_predict(kmeans_data)"
   ]
  },
  {
   "cell_type": "code",
   "execution_count": null,
   "metadata": {
    "scrolled": true
   },
   "outputs": [],
   "source": [
    "km.cluster_centers_"
   ]
  },
  {
   "cell_type": "code",
   "execution_count": null,
   "metadata": {},
   "outputs": [],
   "source": []
  },
  {
   "cell_type": "code",
   "execution_count": null,
   "metadata": {},
   "outputs": [],
   "source": [
    "fig = plt.figure(figsize=(8, 6))\n",
    "ax = fig.add_subplot(111, projection='3d')\n",
    "\n",
    "zs = kmeans_data_no_out['ride_distance']\n",
    "xs = kmeans_data_no_out['ride_duration']\n",
    "ys = kmeans_data_no_out['ride_cost']\n",
    "ax.scatter(xs, ys, zs, s=50, alpha=0.6, edgecolors='w')\n",
    "\n",
    "ax.set_xlabel('Ride Distance')\n",
    "ax.set_ylabel('Ride Duration')\n",
    "ax.set_zlabel('Ride Cost')\n"
   ]
  },
  {
   "cell_type": "code",
   "execution_count": null,
   "metadata": {},
   "outputs": [],
   "source": [
    "cost_mean = kmeans_data_no_out['ride_cost'].median()\n",
    "kmeans_data_no_out.loc[kmeans_data_no_out.ride_cost < cost_mean, 'ride_cost']  = 0\n",
    "kmeans_data_no_out.loc[kmeans_data_no_out.ride_cost >= cost_mean, 'ride_cost']  = 1"
   ]
  },
  {
   "cell_type": "code",
   "execution_count": null,
   "metadata": {},
   "outputs": [],
   "source": [
    "kmeans_data_no_out"
   ]
  },
  {
   "cell_type": "code",
   "execution_count": null,
   "metadata": {},
   "outputs": [],
   "source": [
    "jp = sns.pairplot(kmeans_data_no_out, x_vars=[\"ride_distance\"], y_vars=[\"ride_duration\"], size=4.5,\n",
    "                  hue=\"ride_cost\", palette={0: \"#FF9999\", 1: \"#FFE888\"},\n",
    "                  plot_kws=dict(edgecolor=\"k\", linewidth=0.5))"
   ]
  },
  {
   "cell_type": "code",
   "execution_count": null,
   "metadata": {},
   "outputs": [],
   "source": [
    "kmeans_corr = kmeans_data.corr()"
   ]
  },
  {
   "cell_type": "code",
   "execution_count": null,
   "metadata": {
    "scrolled": false
   },
   "outputs": [],
   "source": [
    "kmeans_corr"
   ]
  },
  {
   "cell_type": "code",
   "execution_count": null,
   "metadata": {},
   "outputs": [],
   "source": [
    "import numpy as np \n",
    "from pandas import DataFrame\n",
    "import matplotlib.pyplot as plt\n",
    "\n",
    "plt.pcolor(kmeans_corr)\n",
    "plt.yticks(np.arange(0.5, len(kmeans_corr.index), 1), kmeans_corr.index)\n",
    "plt.xticks(np.arange(0.5, len(kmeans_corr.columns), 1), kmeans_corr.columns)\n",
    "plt.show()"
   ]
  },
  {
   "cell_type": "code",
   "execution_count": null,
   "metadata": {},
   "outputs": [],
   "source": [
    "# intialize pca and logistic regression model\n",
    "pca = PCA(n_components=3)\n",
    "pca_data = pca.fit_transform(kmeans_data)"
   ]
  },
  {
   "cell_type": "code",
   "execution_count": null,
   "metadata": {},
   "outputs": [],
   "source": [
    "pca_data"
   ]
  },
  {
   "cell_type": "code",
   "execution_count": null,
   "metadata": {},
   "outputs": [],
   "source": [
    "fig = plt.figure(figsize=(8, 6))\n",
    "ax = fig.add_subplot(111, projection='3d')\n",
    "\n",
    "xs = pca\n",
    "ys = kmeans_data_no_out['ride_duration']\n",
    "zs = kmeans_data_no_out['ride_cost']\n",
    "ax.scatter(xs, ys, zs, s=50, alpha=0.6, edgecolors='w')\n",
    "\n",
    "ax.set_xlabel('Ride Distance')\n",
    "ax.set_ylabel('Ride Duration')\n",
    "ax.set_zlabel('Ride Cost')"
   ]
  }
 ],
 "metadata": {
  "kernelspec": {
   "display_name": "Python 3",
   "language": "python",
   "name": "python3"
  },
  "language_info": {
   "codemirror_mode": {
    "name": "ipython",
    "version": 3
   },
   "file_extension": ".py",
   "mimetype": "text/x-python",
   "name": "python",
   "nbconvert_exporter": "python",
   "pygments_lexer": "ipython3",
   "version": "3.7.3"
  }
 },
 "nbformat": 4,
 "nbformat_minor": 2
}
